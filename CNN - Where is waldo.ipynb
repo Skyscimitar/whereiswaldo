{
 "cells": [
  {
   "cell_type": "code",
   "execution_count": 3,
   "metadata": {},
   "outputs": [],
   "source": [
    "import cv2\n",
    "import numpy as np\n",
    "from matplotlib import pyplot as plt"
   ]
  },
  {
   "cell_type": "code",
   "execution_count": 118,
   "metadata": {},
   "outputs": [],
   "source": [
    "from keras.models import Sequential\n",
    "from keras.layers import Dense, Conv2D, Flatten, MaxPooling2D\n",
    "#create model\n",
    "model = Sequential()\n",
    "#add model layers\n",
    "model.add(Conv2D(3, kernel_size=3, activation='relu', input_shape=(64,64,3)))\n",
    "model.add(MaxPooling2D(pool_size=(2, 2)))\n",
    "model.add(Conv2D(3, kernel_size=3, activation='relu'))\n",
    "model.add(Flatten())\n",
    "model.add(Dense(100, activation='softmax'))\n",
    "model.add(Dense(1, activation='softmax'))\n",
    "\n",
    "model.compile(optimizer='adam', loss='binary_crossentropy', metrics=['mae'])"
   ]
  },
  {
   "cell_type": "code",
   "execution_count": 119,
   "metadata": {},
   "outputs": [
    {
     "data": {
      "text/plain": [
       "<matplotlib.image.AxesImage at 0x134b90400>"
      ]
     },
     "execution_count": 119,
     "metadata": {},
     "output_type": "execute_result"
    },
    {
     "data": {
      "image/png": "[encoded data removed]",
      "text/plain": [
       "<Figure size 144x72 with 1 Axes>"
      ]
     },
     "metadata": {
      "needs_background": "light"
     },
     "output_type": "display_data"
    },
    {
     "data": {
      "image/png": "[encoded data removed]",
      "text/plain": [
       "<Figure size 144x72 with 1 Axes>"
      ]
     },
     "metadata": {
      "needs_background": "light"
     },
     "output_type": "display_data"
    }
   ],
   "source": [
    "import glob\n",
    "\n",
    "waldo = []\n",
    "for img_name in glob.glob('Data/64/waldo/*'):\n",
    "    waldo.append(cv2.cvtColor(cv2.imread(img_name, 1), cv2.COLOR_BGR2RGB))\n",
    "not_waldo = []\n",
    "for img_name in glob.glob('Data/64/notwaldo/*'):\n",
    "    not_waldo.append(cv2.cvtColor(cv2.imread(img_name, 1), cv2.COLOR_BGR2RGB))\n",
    "    \n",
    "plt.figure(figsize=(2, 1))\n",
    "plt.imshow(waldo[0])\n",
    "plt.figure(figsize=(2, 1))\n",
    "plt.imshow(not_waldo[0])"
   ]
  },
  {
   "cell_type": "code",
   "execution_count": 120,
   "metadata": {},
   "outputs": [
    {
     "name": "stdout",
     "output_type": "stream",
     "text": [
      "[False False False ... False False False]\n",
      "Train on 4300 samples, validate on 1076 samples\n",
      "Epoch 1/3\n",
      "4300/4300 [==============================] - 3s 713us/step - loss: 15.8275 - mean_absolute_error: 0.9928 - val_loss: 15.8239 - val_mean_absolute_error: 0.9926\n",
      "Epoch 2/3\n",
      "4300/4300 [==============================] - 3s 610us/step - loss: 15.8275 - mean_absolute_error: 0.9928 - val_loss: 15.8239 - val_mean_absolute_error: 0.9926\n",
      "Epoch 3/3\n",
      "4300/4300 [==============================] - 3s 613us/step - loss: 15.8275 - mean_absolute_error: 0.9928 - val_loss: 15.8239 - val_mean_absolute_error: 0.9926\n"
     ]
    },
    {
     "data": {
      "text/plain": [
       "<keras.callbacks.History at 0x134b3d0f0>"
      ]
     },
     "execution_count": 120,
     "metadata": {},
     "output_type": "execute_result"
    }
   ],
   "source": [
    "from sklearn.utils import shuffle\n",
    "import torch\n",
    "\n",
    "X = waldo + not_waldo\n",
    "\n",
    "waldo_labels = [True for w in waldo]\n",
    "not_waldo_labels = [False for nw in not_waldo]\n",
    "Y = waldo_labels + not_waldo_labels\n",
    "\n",
    "X, Y = shuffle(np.array(X), np.array(Y))\n",
    "cut_test = int(len(X)*0.8)\n",
    "X_train = X[:cut_test]\n",
    "y_train = Y[:cut_test]\n",
    "X_test = X[cut_test:]\n",
    "y_test = Y[cut_test:]\n",
    "print(Y)\n",
    "#X_train_torch = [torch.from_numpy(x).type('torch.FloatTensor') for x in X_train]\n",
    "model.fit(X_train, y_train, validation_data=(X_test, y_test), epochs=3)\n",
    "\n",
    "# Dataset_train = zip(X_train_torch, Y_train)"
   ]
  },
  {
   "cell_type": "code",
   "execution_count": 121,
   "metadata": {},
   "outputs": [
    {
     "name": "stdout",
     "output_type": "stream",
     "text": [
      "_________________________________________________________________\n",
      "Layer (type)                 Output Shape              Param #   \n",
      "=================================================================\n",
      "conv2d_19 (Conv2D)           (None, 62, 62, 3)         84        \n",
      "_________________________________________________________________\n",
      "max_pooling2d_2 (MaxPooling2 (None, 31, 31, 3)         0         \n",
      "_________________________________________________________________\n",
      "conv2d_20 (Conv2D)           (None, 29, 29, 3)         84        \n",
      "_________________________________________________________________\n",
      "flatten_10 (Flatten)         (None, 2523)              0         \n",
      "_________________________________________________________________\n",
      "dense_11 (Dense)             (None, 100)               252400    \n",
      "_________________________________________________________________\n",
      "dense_12 (Dense)             (None, 1)                 101       \n",
      "=================================================================\n",
      "Total params: 252,669\n",
      "Trainable params: 252,669\n",
      "Non-trainable params: 0\n",
      "_________________________________________________________________\n"
     ]
    }
   ],
   "source": [
    "model.summary()"
   ]
  },
  {
   "cell_type": "code",
   "execution_count": null,
   "metadata": {},
   "outputs": [],
   "source": []
  }
 ],
 "metadata": {
  "kernelspec": {
   "display_name": "Python 3",
   "language": "python",
   "name": "python3"
  },
  "language_info": {
   "codemirror_mode": {
    "name": "ipython",
    "version": 3
   },
   "file_extension": ".py",
   "mimetype": "text/x-python",
   "name": "python",
   "nbconvert_exporter": "python",
   "pygments_lexer": "ipython3",
   "version": "3.7.2"
  }
 },
 "nbformat": 4,
 "nbformat_minor": 2
}
