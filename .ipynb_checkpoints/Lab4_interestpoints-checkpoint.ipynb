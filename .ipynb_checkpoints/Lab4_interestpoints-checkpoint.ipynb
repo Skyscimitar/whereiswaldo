{
 "cells": [
  {
   "cell_type": "markdown",
   "metadata": {
    "colab_type": "text",
    "id": "y6SAf8mDulrJ"
   },
   "source": [
    "# Detecteur de Harris\n",
    "\n",
    "\n",
    "L'objectif de ce TP est de mettre au point votre propre détecteur de points d'intérêts en suivant la méthode de Harris (c.f. cours).\n",
    "\n",
    "## Exercice 1 : calcul du critère de Harris\n",
    "Il s'agit ici d'écrire une fonction ou un ensemble de fonctions permettant de renvoyer la carte des coins de Harris $ H = det C - \\alpha (trace C)^{2}$ à partir d'une image donnée et pour une échelle donnée (taille de la fenêtre). On prendra $\\alpha = 0.04$."
   ]
  },
  {
   "cell_type": "markdown",
   "metadata": {
    "colab_type": "text",
    "id": "toOnxUBxulrK"
   },
   "source": [
    "### Etape 1\n",
    "Calcul de $I_{x}$ et $I_{y}$ gradient en $x$ et en $y$ d'une image lissée à l'aide de l'opérateur de Sobel."
   ]
  },
  {
   "cell_type": "code",
   "execution_count": 0,
   "metadata": {
    "colab": {},
    "colab_type": "code",
    "id": "-39r5fSQulrL"
   },
   "outputs": [],
   "source": [
    "# TO COMPLETE\n"
   ]
  },
  {
   "cell_type": "markdown",
   "metadata": {
    "colab_type": "text",
    "id": "FR-L4gGtulrO"
   },
   "source": [
    "### Etape 2\n",
    "Calcul de $I_{x}^{2}$, $I_{x}^{2}$ et $I_{xy}= I_{x} \\times I_{y}$"
   ]
  },
  {
   "cell_type": "code",
   "execution_count": 0,
   "metadata": {
    "colab": {},
    "colab_type": "code",
    "id": "hoj1BG80ulrP"
   },
   "outputs": [],
   "source": [
    "# TO COMPLETE\n"
   ]
  },
  {
   "cell_type": "markdown",
   "metadata": {
    "colab_type": "text",
    "id": "Uk4AywpiulrS"
   },
   "source": [
    "### Etape 3\n",
    "Lisser avec un filtre gaussien de taille $N$ chacune des images précédentes."
   ]
  },
  {
   "cell_type": "code",
   "execution_count": 0,
   "metadata": {
    "colab": {},
    "colab_type": "code",
    "id": "E4QgLBOxulrS"
   },
   "outputs": [],
   "source": [
    "# TO COMPLETE"
   ]
  },
  {
   "cell_type": "markdown",
   "metadata": {
    "colab_type": "text",
    "id": "04OifinzulrV"
   },
   "source": [
    "### Etape 4\n",
    "En chaque pixel, calculer la fonction de Harris :$ H = det C - \\alpha (trace C)^{2}$ avec $\\alpha = 0.04$\n"
   ]
  },
  {
   "cell_type": "code",
   "execution_count": 0,
   "metadata": {
    "colab": {},
    "colab_type": "code",
    "id": "S4N2K51julrW"
   },
   "outputs": [],
   "source": [
    "# TO COMPLETE"
   ]
  },
  {
   "cell_type": "markdown",
   "metadata": {
    "colab_type": "text",
    "id": "ghT3Fr4AulrZ"
   },
   "source": [
    "Appliquer sur l'image de maison et afficher l'image $H$. "
   ]
  },
  {
   "cell_type": "code",
   "execution_count": 0,
   "metadata": {
    "colab": {},
    "colab_type": "code",
    "id": "FFPwH0nqulra"
   },
   "outputs": [],
   "source": [
    "# TO COMPLETE"
   ]
  },
  {
   "cell_type": "markdown",
   "metadata": {
    "colab_type": "text",
    "id": "9UoXep5_ulrd"
   },
   "source": [
    "## Exercice 2 : détection des coins\n",
    "\n",
    "Il s'agit ici de mettre en place les fonctions pour détecter les coins à partir de la carte des coins construite dans la partie précédente.\n",
    "\n",
    "Ecrire une fonction permettant de binariser la carte des coins par une opération de seuillage."
   ]
  },
  {
   "cell_type": "code",
   "execution_count": 0,
   "metadata": {
    "colab": {},
    "colab_type": "code",
    "id": "tWWLLwX8ulrd"
   },
   "outputs": [],
   "source": [
    "# TO COMPLETE"
   ]
  },
  {
   "cell_type": "markdown",
   "metadata": {
    "colab_type": "text",
    "id": "K0zpYlkKulrh"
   },
   "source": [
    "Ecrire une fonction permettant d'extraire les maxima locaux sur un voisinage $3 \\times 3$ (mettre à 0 dans l'image binarisée tous les points  dont la valeur n'est pas supérieure à celle des 8 voisins ) "
   ]
  },
  {
   "cell_type": "code",
   "execution_count": 0,
   "metadata": {
    "colab": {},
    "colab_type": "code",
    "id": "jzUrkA86ulri"
   },
   "outputs": [],
   "source": [
    "# TO COMPLETE"
   ]
  },
  {
   "cell_type": "markdown",
   "metadata": {
    "colab_type": "text",
    "id": "rlGiGqt7ulrl"
   },
   "source": [
    "Ecrire une fonction permettant d'afficher les points détectés en dessinant une croix blanche en chaque point sur l'image originale."
   ]
  },
  {
   "cell_type": "code",
   "execution_count": 0,
   "metadata": {
    "colab": {},
    "colab_type": "code",
    "id": "swydxCciulrn"
   },
   "outputs": [],
   "source": []
  },
  {
   "cell_type": "markdown",
   "metadata": {
    "colab_type": "text",
    "id": "77WY__SQulrp"
   },
   "source": [
    "Appliquer sur l'image de maison"
   ]
  },
  {
   "cell_type": "markdown",
   "metadata": {
    "colab_type": "text",
    "id": "kG3esQyRulrq"
   },
   "source": [
    "## Exercice 3\n",
    "Plusieurs fonctions sont disponibles dans OpenCV pour le calcul de points d'intérêts. :\n",
    "+ [cornerHarris](http://docs.opencv.org/3.2.0/dc/d0d/tutorial_py_features_harris.html)\n",
    "+ [cornerSubPix](http://docs.opencv.org/3.2.0/dc/d0d/tutorial_py_features_harris.html)\n",
    "+ [goodFeaturesToTrack](http://docs.opencv.org/3.2.0/d4/d8c/tutorial_py_shi_tomasi.html) qui correspond à l'approche de Shi Tomasi\n",
    "+ [SIFT](http://docs.opencv.org/3.2.0/da/df5/tutorial_py_sift_intro.html)\n",
    "\n",
    "Documentez vous sur ces différentes fonctions et utilisez les pour calculer des points d'intérêts sur différentes images et notamment l'image (les images) utilisées dans la première partie de ce TP.\n",
    "\n"
   ]
  },
  {
   "cell_type": "code",
   "execution_count": 0,
   "metadata": {
    "colab": {},
    "colab_type": "code",
    "id": "KPT1rKbGulrr"
   },
   "outputs": [],
   "source": []
  }
 ],
 "metadata": {
  "colab": {
   "name": "Lab4_interestpoints.ipynb",
   "provenance": [],
   "version": "0.3.2"
  },
  "kernelspec": {
   "display_name": "Python 3",
   "language": "python",
   "name": "python3"
  },
  "language_info": {
   "codemirror_mode": {
    "name": "ipython",
    "version": 3
   },
   "file_extension": ".py",
   "mimetype": "text/x-python",
   "name": "python",
   "nbconvert_exporter": "python",
   "pygments_lexer": "ipython3",
   "version": "3.7.2"
  }
 },
 "nbformat": 4,
 "nbformat_minor": 1
}
